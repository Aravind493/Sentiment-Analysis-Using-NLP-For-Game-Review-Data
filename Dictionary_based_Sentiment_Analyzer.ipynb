{
 "cells": [
  {
   "cell_type": "code",
   "execution_count": 83,
   "metadata": {},
   "outputs": [],
   "source": [
    "import pandas as pd\n",
    "import nltk\n",
    "from IPython.display import display\n",
    "pd.set_option('display.max_columns', None)"
   ]
  },
  {
   "cell_type": "code",
   "execution_count": 84,
   "metadata": {},
   "outputs": [],
   "source": [
    "reviews = pd.read_csv(\"new_data/small_corpus.csv\")"
   ]
  },
  {
   "cell_type": "code",
   "execution_count": 85,
   "metadata": {},
   "outputs": [
    {
     "data": {
      "text/html": [
       "<div>\n",
       "<style scoped>\n",
       "    .dataframe tbody tr th:only-of-type {\n",
       "        vertical-align: middle;\n",
       "    }\n",
       "\n",
       "    .dataframe tbody tr th {\n",
       "        vertical-align: top;\n",
       "    }\n",
       "\n",
       "    .dataframe thead th {\n",
       "        text-align: right;\n",
       "    }\n",
       "</style>\n",
       "<table border=\"1\" class=\"dataframe\">\n",
       "  <thead>\n",
       "    <tr style=\"text-align: right;\">\n",
       "      <th></th>\n",
       "      <th>overall</th>\n",
       "      <th>verified</th>\n",
       "      <th>reviewTime</th>\n",
       "      <th>reviewerID</th>\n",
       "      <th>asin</th>\n",
       "      <th>reviewerName</th>\n",
       "      <th>reviewText</th>\n",
       "      <th>summary</th>\n",
       "      <th>unixReviewTime</th>\n",
       "      <th>vote</th>\n",
       "      <th>style</th>\n",
       "      <th>image</th>\n",
       "    </tr>\n",
       "  </thead>\n",
       "  <tbody>\n",
       "    <tr>\n",
       "      <th>0</th>\n",
       "      <td>1.0</td>\n",
       "      <td>True</td>\n",
       "      <td>02 9, 2015</td>\n",
       "      <td>A29ROVDR59S0UJ</td>\n",
       "      <td>B00BPEBG8A</td>\n",
       "      <td>Madmatt7</td>\n",
       "      <td>The folks who developed this game obviously had absolutely no connection/clue as to what was going on in the previous thief games. All the intelligence, humor, superb story-telling, stylish music and interesting characters have given way to looking goth/emo/cool. I'm guessing this game was developed with the pre-teen crowd in mind. It's that brainless. I'd rather play \"The Metal Age\" 20 times over than this. Very, very disappointed.</td>\n",
       "      <td>Does not deserve the \"Thief\" name.</td>\n",
       "      <td>1423440000</td>\n",
       "      <td>2.0</td>\n",
       "      <td>{'Platform:': ' PC Online Game Code'}</td>\n",
       "      <td>NaN</td>\n",
       "    </tr>\n",
       "    <tr>\n",
       "      <th>1</th>\n",
       "      <td>1.0</td>\n",
       "      <td>True</td>\n",
       "      <td>12 30, 2015</td>\n",
       "      <td>A13WITJWA68CBR</td>\n",
       "      <td>B00438VWRU</td>\n",
       "      <td>Adventure Reader</td>\n",
       "      <td>After an hour of play, I am only through six of the puzzles. In fact, I had to look up the solutions to two of the puzzles on internet gaming walkthrough sites.\\nHere is my assessment of the game so far:\\nGRAPHICS: The graphics are very lackluster. I understand this is a DS game, but I am using it on the new 3DS XL with the biggest screen and the game still looks fuzzy.\\nGAMEPLAY: The flow of the games is limited to going to different points on a map and not being able to move to another location until you solve the given puzzle(s). Sometimes you will be tasked with having to find an object in one of the rooms, but the cruddy graphics make it hard to be certain of what or where to click on the screen. However, you can just click all over the screen until the item reveals itself.\\nOVERALL:\\nI enjoy games of mystery, hidden objects, puzzle-solving, and problem-solving, and I thought this game would offer these things and a good story. Unfortunately it is a disappointment due to the terrible graphics and the difficulty of some of the puzzles. I give this game 1 star.</td>\n",
       "      <td>Some of the puzzles are just too difficult</td>\n",
       "      <td>1451433600</td>\n",
       "      <td>NaN</td>\n",
       "      <td>NaN</td>\n",
       "      <td>NaN</td>\n",
       "    </tr>\n",
       "  </tbody>\n",
       "</table>\n",
       "</div>"
      ],
      "text/plain": [
       "   overall  verified   reviewTime      reviewerID        asin  \\\n",
       "0      1.0      True   02 9, 2015  A29ROVDR59S0UJ  B00BPEBG8A   \n",
       "1      1.0      True  12 30, 2015  A13WITJWA68CBR  B00438VWRU   \n",
       "\n",
       "       reviewerName  \\\n",
       "0          Madmatt7   \n",
       "1  Adventure Reader   \n",
       "\n",
       "                                                                                                                                                                                                                                                                                                                                                                                                                                                                                                                                                                                                                                                                                                                                                                                                                                                                                                                                                                                                                                                                                                                 reviewText  \\\n",
       "0                                                                                                                                                                                                                                                                                                                                                                                                                                                                                                                                                                                                                                                                      The folks who developed this game obviously had absolutely no connection/clue as to what was going on in the previous thief games. All the intelligence, humor, superb story-telling, stylish music and interesting characters have given way to looking goth/emo/cool. I'm guessing this game was developed with the pre-teen crowd in mind. It's that brainless. I'd rather play \"The Metal Age\" 20 times over than this. Very, very disappointed.   \n",
       "1  After an hour of play, I am only through six of the puzzles. In fact, I had to look up the solutions to two of the puzzles on internet gaming walkthrough sites.\\nHere is my assessment of the game so far:\\nGRAPHICS: The graphics are very lackluster. I understand this is a DS game, but I am using it on the new 3DS XL with the biggest screen and the game still looks fuzzy.\\nGAMEPLAY: The flow of the games is limited to going to different points on a map and not being able to move to another location until you solve the given puzzle(s). Sometimes you will be tasked with having to find an object in one of the rooms, but the cruddy graphics make it hard to be certain of what or where to click on the screen. However, you can just click all over the screen until the item reveals itself.\\nOVERALL:\\nI enjoy games of mystery, hidden objects, puzzle-solving, and problem-solving, and I thought this game would offer these things and a good story. Unfortunately it is a disappointment due to the terrible graphics and the difficulty of some of the puzzles. I give this game 1 star.   \n",
       "\n",
       "                                      summary  unixReviewTime  vote  \\\n",
       "0          Does not deserve the \"Thief\" name.      1423440000   2.0   \n",
       "1  Some of the puzzles are just too difficult      1451433600   NaN   \n",
       "\n",
       "                                   style image  \n",
       "0  {'Platform:': ' PC Online Game Code'}   NaN  \n",
       "1                                    NaN   NaN  "
      ]
     },
     "execution_count": 85,
     "metadata": {},
     "output_type": "execute_result"
    }
   ],
   "source": [
    "reviews.head(2)"
   ]
  },
  {
   "cell_type": "markdown",
   "metadata": {},
   "source": [
    "<h3> Text Preprocessing"
   ]
  },
  {
   "cell_type": "markdown",
   "metadata": {},
   "source": [
    "1. Tokenizing the sentences and words of the reviews\n",
    "\n",
    "Here, We're going to test different versions of word tokenizer on reviews. We'll then decide which tokenizer might be better to use."
   ]
  },
  {
   "cell_type": "markdown",
   "metadata": {},
   "source": [
    "<b> Treebank Word Tokenizer</b>\n",
    "\n",
    "It identifies word boundaries in a given text, separating words based on spaces and punctuation marks.\n",
    "\n",
    " It properly handles contractions like \"don't\" or \"can't,\" splitting them into their constituent parts (\"do\" and \"n't\", \"ca\" and \"n't\")."
   ]
  },
  {
   "cell_type": "code",
   "execution_count": 86,
   "metadata": {},
   "outputs": [],
   "source": [
    "from nltk.tokenize import TreebankWordTokenizer\n",
    "from string import punctuation\n",
    "import string"
   ]
  },
  {
   "cell_type": "code",
   "execution_count": 87,
   "metadata": {},
   "outputs": [],
   "source": [
    "tb_tokenizer = TreebankWordTokenizer()"
   ]
  },
  {
   "cell_type": "code",
   "execution_count": 88,
   "metadata": {},
   "outputs": [],
   "source": [
    "reviews[\"rev_text_lower\"] = reviews['reviewText'].apply(lambda rev: str(rev)\\\n",
    "                                                        .translate(str.maketrans('', '', punctuation))\\\n",
    "                                                        .replace(\"<br />\", \" \")\\\n",
    "                                                        .lower())"
   ]
  },
  {
   "cell_type": "code",
   "execution_count": 89,
   "metadata": {},
   "outputs": [
    {
     "data": {
      "text/html": [
       "<div>\n",
       "<style scoped>\n",
       "    .dataframe tbody tr th:only-of-type {\n",
       "        vertical-align: middle;\n",
       "    }\n",
       "\n",
       "    .dataframe tbody tr th {\n",
       "        vertical-align: top;\n",
       "    }\n",
       "\n",
       "    .dataframe thead th {\n",
       "        text-align: right;\n",
       "    }\n",
       "</style>\n",
       "<table border=\"1\" class=\"dataframe\">\n",
       "  <thead>\n",
       "    <tr style=\"text-align: right;\">\n",
       "      <th></th>\n",
       "      <th>reviewText</th>\n",
       "      <th>rev_text_lower</th>\n",
       "    </tr>\n",
       "  </thead>\n",
       "  <tbody>\n",
       "    <tr>\n",
       "      <th>3903</th>\n",
       "      <td>excellent</td>\n",
       "      <td>excellent</td>\n",
       "    </tr>\n",
       "    <tr>\n",
       "      <th>3552</th>\n",
       "      <td>Excellent service.\\n\\nThe game arrived in perfect condition.\\n\\nI recommend to all fans of the series X.\\n\\nEveryone should have it in your collection.</td>\n",
       "      <td>excellent service\\n\\nthe game arrived in perfect condition\\n\\ni recommend to all fans of the series x\\n\\neveryone should have it in your collection</td>\n",
       "    </tr>\n",
       "  </tbody>\n",
       "</table>\n",
       "</div>"
      ],
      "text/plain": [
       "                                                                                                                                                   reviewText  \\\n",
       "3903                                                                                                                                                excellent   \n",
       "3552  Excellent service.\\n\\nThe game arrived in perfect condition.\\n\\nI recommend to all fans of the series X.\\n\\nEveryone should have it in your collection.   \n",
       "\n",
       "                                                                                                                                           rev_text_lower  \n",
       "3903                                                                                                                                            excellent  \n",
       "3552  excellent service\\n\\nthe game arrived in perfect condition\\n\\ni recommend to all fans of the series x\\n\\neveryone should have it in your collection  "
      ]
     },
     "execution_count": 89,
     "metadata": {},
     "output_type": "execute_result"
    }
   ],
   "source": [
    "reviews[['reviewText','rev_text_lower']].sample(2)"
   ]
  },
  {
   "cell_type": "code",
   "execution_count": 90,
   "metadata": {},
   "outputs": [],
   "source": [
    "reviews[\"tb_tokens\"] = reviews['rev_text_lower'].apply(lambda rev: tb_tokenizer.tokenize(str(rev)))"
   ]
  },
  {
   "cell_type": "code",
   "execution_count": 91,
   "metadata": {},
   "outputs": [],
   "source": [
    "pd.set_option('display.max_colwidth', None)"
   ]
  },
  {
   "cell_type": "code",
   "execution_count": 92,
   "metadata": {},
   "outputs": [
    {
     "data": {
      "text/html": [
       "<div>\n",
       "<style scoped>\n",
       "    .dataframe tbody tr th:only-of-type {\n",
       "        vertical-align: middle;\n",
       "    }\n",
       "\n",
       "    .dataframe tbody tr th {\n",
       "        vertical-align: top;\n",
       "    }\n",
       "\n",
       "    .dataframe thead th {\n",
       "        text-align: right;\n",
       "    }\n",
       "</style>\n",
       "<table border=\"1\" class=\"dataframe\">\n",
       "  <thead>\n",
       "    <tr style=\"text-align: right;\">\n",
       "      <th></th>\n",
       "      <th>reviewText</th>\n",
       "      <th>tb_tokens</th>\n",
       "    </tr>\n",
       "  </thead>\n",
       "  <tbody>\n",
       "    <tr>\n",
       "      <th>3865</th>\n",
       "      <td>Steelseries's best optical mouse</td>\n",
       "      <td>[steelseriess, best, optical, mouse]</td>\n",
       "    </tr>\n",
       "    <tr>\n",
       "      <th>1318</th>\n",
       "      <td>It was already on this PC, and I couldn't run it for that reason. I tried changing the player name and everything I could think of. It would be a stretch to give it a good rating.</td>\n",
       "      <td>[it, was, already, on, this, pc, and, i, couldnt, run, it, for, that, reason, i, tried, changing, the, player, name, and, everything, i, could, think, of, it, would, be, a, stretch, to, give, it, a, good, rating]</td>\n",
       "    </tr>\n",
       "  </tbody>\n",
       "</table>\n",
       "</div>"
      ],
      "text/plain": [
       "                                                                                                                                                                               reviewText  \\\n",
       "3865                                                                                                                                                     Steelseries's best optical mouse   \n",
       "1318  It was already on this PC, and I couldn't run it for that reason. I tried changing the player name and everything I could think of. It would be a stretch to give it a good rating.   \n",
       "\n",
       "                                                                                                                                                                                                                 tb_tokens  \n",
       "3865                                                                                                                                                                                  [steelseriess, best, optical, mouse]  \n",
       "1318  [it, was, already, on, this, pc, and, i, couldnt, run, it, for, that, reason, i, tried, changing, the, player, name, and, everything, i, could, think, of, it, would, be, a, stretch, to, give, it, a, good, rating]  "
      ]
     },
     "execution_count": 92,
     "metadata": {},
     "output_type": "execute_result"
    }
   ],
   "source": [
    "reviews[['reviewText','tb_tokens']].sample(2)"
   ]
  },
  {
   "cell_type": "markdown",
   "metadata": {},
   "source": [
    "<b> Casual Tokenizer"
   ]
  },
  {
   "cell_type": "code",
   "execution_count": 93,
   "metadata": {},
   "outputs": [],
   "source": [
    "from nltk.tokenize.casual import casual_tokenize"
   ]
  },
  {
   "cell_type": "code",
   "execution_count": 94,
   "metadata": {},
   "outputs": [],
   "source": [
    "reviews['casual_tokens'] = reviews['rev_text_lower'].apply(lambda rev: casual_tokenize(str(rev)))\n"
   ]
  },
  {
   "cell_type": "code",
   "execution_count": 95,
   "metadata": {},
   "outputs": [
    {
     "data": {
      "text/html": [
       "<div>\n",
       "<style scoped>\n",
       "    .dataframe tbody tr th:only-of-type {\n",
       "        vertical-align: middle;\n",
       "    }\n",
       "\n",
       "    .dataframe tbody tr th {\n",
       "        vertical-align: top;\n",
       "    }\n",
       "\n",
       "    .dataframe thead th {\n",
       "        text-align: right;\n",
       "    }\n",
       "</style>\n",
       "<table border=\"1\" class=\"dataframe\">\n",
       "  <thead>\n",
       "    <tr style=\"text-align: right;\">\n",
       "      <th></th>\n",
       "      <th>reviewText</th>\n",
       "      <th>casual_tokens</th>\n",
       "      <th>tb_tokens</th>\n",
       "    </tr>\n",
       "  </thead>\n",
       "  <tbody>\n",
       "    <tr>\n",
       "      <th>2251</th>\n",
       "      <td>The issue I feel I have with this is that it's not really a base builder game, but more of a capture points on the map game, much like Relic's flagship series, Dawn of War 2.\\n\\nIt's not an rpg/rts like dow2, but I enjoyed more of the base building of DOW and AOE and Starcraft than this. Granted, it's still fun, and it looks good but whatever.\\n\\nSome people were saying they had disk issues, but I got this game (both expansions) off of steam, and the only issue I have is that there are TONS of patches. Literally GIGS.\\n\\nIf you have a slow connection and you want to play online, forget about it. Leave your computer on for a few days.\\n\\nI had no issues with drm.</td>\n",
       "      <td>[the, issue, i, feel, i, have, with, this, is, that, its, not, really, a, base, builder, game, but, more, of, a, capture, points, on, the, map, game, much, like, relics, flagship, series, dawn, of, war, 2, its, not, an, rpgrts, like, dow, 2, but, i, enjoyed, more, of, the, base, building, of, dow, and, aoe, and, starcraft, than, this, granted, its, still, fun, and, it, looks, good, but, whatever, some, people, were, saying, they, had, disk, issues, but, i, got, this, game, both, expansions, off, of, steam, and, the, only, issue, i, have, is, that, there, are, tons, of, patches, ...]</td>\n",
       "      <td>[the, issue, i, feel, i, have, with, this, is, that, its, not, really, a, base, builder, game, but, more, of, a, capture, points, on, the, map, game, much, like, relics, flagship, series, dawn, of, war, 2, its, not, an, rpgrts, like, dow2, but, i, enjoyed, more, of, the, base, building, of, dow, and, aoe, and, starcraft, than, this, granted, its, still, fun, and, it, looks, good, but, whatever, some, people, were, saying, they, had, disk, issues, but, i, got, this, game, both, expansions, off, of, steam, and, the, only, issue, i, have, is, that, there, are, tons, of, patches, literally, ...]</td>\n",
       "    </tr>\n",
       "    <tr>\n",
       "      <th>4156</th>\n",
       "      <td>Hope SONY makes a Prologue Game of The LEGEND OF DRAGOON with D3 with Japan Studio and script writers from FOLK LORE!</td>\n",
       "      <td>[hope, sony, makes, a, prologue, game, of, the, legend, of, dragoon, with, d3, with, japan, studio, and, script, writers, from, folk, lore]</td>\n",
       "      <td>[hope, sony, makes, a, prologue, game, of, the, legend, of, dragoon, with, d3, with, japan, studio, and, script, writers, from, folk, lore]</td>\n",
       "    </tr>\n",
       "  </tbody>\n",
       "</table>\n",
       "</div>"
      ],
      "text/plain": [
       "                                                                                                                                                                                                                                                                                                                                                                                                                                                                                                                                                                                                                                                                                          reviewText  \\\n",
       "2251  The issue I feel I have with this is that it's not really a base builder game, but more of a capture points on the map game, much like Relic's flagship series, Dawn of War 2.\\n\\nIt's not an rpg/rts like dow2, but I enjoyed more of the base building of DOW and AOE and Starcraft than this. Granted, it's still fun, and it looks good but whatever.\\n\\nSome people were saying they had disk issues, but I got this game (both expansions) off of steam, and the only issue I have is that there are TONS of patches. Literally GIGS.\\n\\nIf you have a slow connection and you want to play online, forget about it. Leave your computer on for a few days.\\n\\nI had no issues with drm.   \n",
       "4156                                                                                                                                                                                                                                                                                                                                                                                                                                                                                                                                                                           Hope SONY makes a Prologue Game of The LEGEND OF DRAGOON with D3 with Japan Studio and script writers from FOLK LORE!   \n",
       "\n",
       "                                                                                                                                                                                                                                                                                                                                                                                                                                                                                                                                                                                                      casual_tokens  \\\n",
       "2251  [the, issue, i, feel, i, have, with, this, is, that, its, not, really, a, base, builder, game, but, more, of, a, capture, points, on, the, map, game, much, like, relics, flagship, series, dawn, of, war, 2, its, not, an, rpgrts, like, dow, 2, but, i, enjoyed, more, of, the, base, building, of, dow, and, aoe, and, starcraft, than, this, granted, its, still, fun, and, it, looks, good, but, whatever, some, people, were, saying, they, had, disk, issues, but, i, got, this, game, both, expansions, off, of, steam, and, the, only, issue, i, have, is, that, there, are, tons, of, patches, ...]   \n",
       "4156                                                                                                                                                                                                                                                                                                                                                                                                                                                                    [hope, sony, makes, a, prologue, game, of, the, legend, of, dragoon, with, d3, with, japan, studio, and, script, writers, from, folk, lore]   \n",
       "\n",
       "                                                                                                                                                                                                                                                                                                                                                                                                                                                                                                                                                                                                                   tb_tokens  \n",
       "2251  [the, issue, i, feel, i, have, with, this, is, that, its, not, really, a, base, builder, game, but, more, of, a, capture, points, on, the, map, game, much, like, relics, flagship, series, dawn, of, war, 2, its, not, an, rpgrts, like, dow2, but, i, enjoyed, more, of, the, base, building, of, dow, and, aoe, and, starcraft, than, this, granted, its, still, fun, and, it, looks, good, but, whatever, some, people, were, saying, they, had, disk, issues, but, i, got, this, game, both, expansions, off, of, steam, and, the, only, issue, i, have, is, that, there, are, tons, of, patches, literally, ...]  \n",
       "4156                                                                                                                                                                                                                                                                                                                                                                                                                                                                             [hope, sony, makes, a, prologue, game, of, the, legend, of, dragoon, with, d3, with, japan, studio, and, script, writers, from, folk, lore]  "
      ]
     },
     "execution_count": 95,
     "metadata": {},
     "output_type": "execute_result"
    }
   ],
   "source": [
    "reviews[['reviewText','casual_tokens','tb_tokens']].sample(2)\n"
   ]
  },
  {
   "cell_type": "markdown",
   "metadata": {},
   "source": [
    "Here we can see the difference in both methods in tree bank method the punctioations and apostopies are handelled very well but in normal tokenizer we can see some words still have punctuations left"
   ]
  },
  {
   "cell_type": "markdown",
   "metadata": {},
   "source": [
    "<h3>2. Stemming"
   ]
  },
  {
   "cell_type": "code",
   "execution_count": 96,
   "metadata": {},
   "outputs": [],
   "source": [
    "from nltk.stem.porter import PorterStemmer"
   ]
  },
  {
   "cell_type": "code",
   "execution_count": 97,
   "metadata": {},
   "outputs": [],
   "source": [
    "stemmer = PorterStemmer()"
   ]
  },
  {
   "cell_type": "code",
   "execution_count": 98,
   "metadata": {},
   "outputs": [],
   "source": [
    "reviews['tokens_stemmed'] = reviews['tb_tokens'].apply(lambda words: [stemmer.stem(w) for w in words])"
   ]
  },
  {
   "cell_type": "code",
   "execution_count": 99,
   "metadata": {},
   "outputs": [
    {
     "data": {
      "text/html": [
       "<div>\n",
       "<style scoped>\n",
       "    .dataframe tbody tr th:only-of-type {\n",
       "        vertical-align: middle;\n",
       "    }\n",
       "\n",
       "    .dataframe tbody tr th {\n",
       "        vertical-align: top;\n",
       "    }\n",
       "\n",
       "    .dataframe thead th {\n",
       "        text-align: right;\n",
       "    }\n",
       "</style>\n",
       "<table border=\"1\" class=\"dataframe\">\n",
       "  <thead>\n",
       "    <tr style=\"text-align: right;\">\n",
       "      <th></th>\n",
       "      <th>tb_tokens</th>\n",
       "      <th>tokens_stemmed</th>\n",
       "    </tr>\n",
       "  </thead>\n",
       "  <tbody>\n",
       "    <tr>\n",
       "      <th>1984</th>\n",
       "      <td>[i, havent, waited, all, this, time, for, an, incomplete, game, that, is, so, restricted, and, controlled, this, is, not, like, blizzard, blizzard, is, supposed, to, be, the, thoughtful, good, company, that, knows, what, we, the, gamers, want, no, lan, ability, is, unacceptable, no, spawn, installs, makes, me, feel, sad, splitting, the, game, into, 3, parts, and, likely, charging, 60, for, each, is, pretty, ridiculous, ongoing, online, activation, could, get, annoying, this, hardly, seems, like, starcraft, or, blizzard, what, happened]</td>\n",
       "      <td>[i, havent, wait, all, thi, time, for, an, incomplet, game, that, is, so, restrict, and, control, thi, is, not, like, blizzard, blizzard, is, suppos, to, be, the, thought, good, compani, that, know, what, we, the, gamer, want, no, lan, abil, is, unaccept, no, spawn, instal, make, me, feel, sad, split, the, game, into, 3, part, and, like, charg, 60, for, each, is, pretti, ridicul, ongo, onlin, activ, could, get, annoy, thi, hardli, seem, like, starcraft, or, blizzard, what, happen]</td>\n",
       "    </tr>\n",
       "    <tr>\n",
       "      <th>4360</th>\n",
       "      <td>[i, got, this, to, complet, the, sires, that, i, have, so, fare, and, still, gating, the, others, best, game, ever]</td>\n",
       "      <td>[i, got, thi, to, complet, the, sire, that, i, have, so, fare, and, still, gate, the, other, best, game, ever]</td>\n",
       "    </tr>\n",
       "  </tbody>\n",
       "</table>\n",
       "</div>"
      ],
      "text/plain": [
       "                                                                                                                                                                                                                                                                                                                                                                                                                                                                                                                                                          tb_tokens  \\\n",
       "1984  [i, havent, waited, all, this, time, for, an, incomplete, game, that, is, so, restricted, and, controlled, this, is, not, like, blizzard, blizzard, is, supposed, to, be, the, thoughtful, good, company, that, knows, what, we, the, gamers, want, no, lan, ability, is, unacceptable, no, spawn, installs, makes, me, feel, sad, splitting, the, game, into, 3, parts, and, likely, charging, 60, for, each, is, pretty, ridiculous, ongoing, online, activation, could, get, annoying, this, hardly, seems, like, starcraft, or, blizzard, what, happened]   \n",
       "4360                                                                                                                                                                                                                                                                                                                                                                                                                                            [i, got, this, to, complet, the, sires, that, i, have, so, fare, and, still, gating, the, others, best, game, ever]   \n",
       "\n",
       "                                                                                                                                                                                                                                                                                                                                                                                                                                                                                             tokens_stemmed  \n",
       "1984  [i, havent, wait, all, thi, time, for, an, incomplet, game, that, is, so, restrict, and, control, thi, is, not, like, blizzard, blizzard, is, suppos, to, be, the, thought, good, compani, that, know, what, we, the, gamer, want, no, lan, abil, is, unaccept, no, spawn, instal, make, me, feel, sad, split, the, game, into, 3, part, and, like, charg, 60, for, each, is, pretti, ridicul, ongo, onlin, activ, could, get, annoy, thi, hardli, seem, like, starcraft, or, blizzard, what, happen]  \n",
       "4360                                                                                                                                                                                                                                                                                                                                                                                         [i, got, thi, to, complet, the, sire, that, i, have, so, fare, and, still, gate, the, other, best, game, ever]  "
      ]
     },
     "execution_count": 99,
     "metadata": {},
     "output_type": "execute_result"
    }
   ],
   "source": [
    "reviews[['tb_tokens','tokens_stemmed']].sample(2)"
   ]
  },
  {
   "cell_type": "markdown",
   "metadata": {},
   "source": [
    "After stemming we can see that the words are converted into their root forms by removing suffexis and prefixes like writeing to write , this helps us to reduce the dimentionality of the data set and impoveis efficieny by removing nosie line ing forms which do not contribute  much to the prediction"
   ]
  },
  {
   "cell_type": "markdown",
   "metadata": {},
   "source": [
    "<h3>3.  Lemmatisation </h3>\n",
    "\n",
    "Lemmatization is similar to stemming but aims to reduce words to their canonical or dictionary form (lemma). "
   ]
  },
  {
   "cell_type": "code",
   "execution_count": 100,
   "metadata": {},
   "outputs": [],
   "source": [
    "from nltk.stem import WordNetLemmatizer\n",
    "from nltk.corpus import wordnet as wn\n",
    "from nltk.corpus import sentiwordnet as swn\n",
    "from nltk import sent_tokenize, word_tokenize, pos_tag"
   ]
  },
  {
   "cell_type": "code",
   "execution_count": 101,
   "metadata": {},
   "outputs": [],
   "source": [
    "def penn_to_wn(tag):\n",
    "    \"\"\"\n",
    "        Convert between the PennTreebank tags to simple Wordnet tags\n",
    "    \"\"\"\n",
    "    if tag.startswith('J'):\n",
    "        return wn.ADJ\n",
    "    elif tag.startswith('N'):\n",
    "        return wn.NOUN\n",
    "    elif tag.startswith('R'):\n",
    "        return wn.ADV\n",
    "    elif tag.startswith('V'):\n",
    "        return wn.VERB\n",
    "    return None"
   ]
  },
  {
   "cell_type": "code",
   "execution_count": 102,
   "metadata": {},
   "outputs": [],
   "source": [
    "lemmatizer = WordNetLemmatizer()\n",
    "def get_lemas(tokens):\n",
    "    lemmas = []\n",
    "    for token in tokens:\n",
    "        pos = penn_to_wn(pos_tag([token])[0][1])\n",
    "        if pos:\n",
    "            lemma = lemmatizer.lemmatize(token, pos)\n",
    "            if lemma:\n",
    "                lemmas.append(lemma)\n",
    "    return lemmas"
   ]
  },
  {
   "cell_type": "code",
   "execution_count": 103,
   "metadata": {},
   "outputs": [
    {
     "name": "stderr",
     "output_type": "stream",
     "text": [
      "[nltk_data] Downloading package averaged_perceptron_tagger to\n",
      "[nltk_data]     C:\\Users\\tatav\\AppData\\Roaming\\nltk_data...\n",
      "[nltk_data]   Package averaged_perceptron_tagger is already up-to-\n",
      "[nltk_data]       date!\n"
     ]
    },
    {
     "data": {
      "text/plain": [
       "True"
      ]
     },
     "execution_count": 103,
     "metadata": {},
     "output_type": "execute_result"
    }
   ],
   "source": [
    "import nltk\n",
    "nltk.download('averaged_perceptron_tagger')\n"
   ]
  },
  {
   "cell_type": "code",
   "execution_count": 104,
   "metadata": {},
   "outputs": [],
   "source": [
    "\n",
    "reviews['lemmas'] = reviews['tb_tokens'].apply(lambda tokens: get_lemas(tokens))"
   ]
  },
  {
   "cell_type": "code",
   "execution_count": 105,
   "metadata": {},
   "outputs": [
    {
     "data": {
      "text/html": [
       "<div>\n",
       "<style scoped>\n",
       "    .dataframe tbody tr th:only-of-type {\n",
       "        vertical-align: middle;\n",
       "    }\n",
       "\n",
       "    .dataframe tbody tr th {\n",
       "        vertical-align: top;\n",
       "    }\n",
       "\n",
       "    .dataframe thead th {\n",
       "        text-align: right;\n",
       "    }\n",
       "</style>\n",
       "<table border=\"1\" class=\"dataframe\">\n",
       "  <thead>\n",
       "    <tr style=\"text-align: right;\">\n",
       "      <th></th>\n",
       "      <th>reviewText</th>\n",
       "      <th>tokens_stemmed</th>\n",
       "      <th>lemmas</th>\n",
       "    </tr>\n",
       "  </thead>\n",
       "  <tbody>\n",
       "    <tr>\n",
       "      <th>3070</th>\n",
       "      <td>Looks great and was a great price\\nI like the little Japanese package art touches.</td>\n",
       "      <td>[look, great, and, wa, a, great, price, i, like, the, littl, japanes, packag, art, touch]</td>\n",
       "      <td>[look, great, be, great, price, i, little, japanese, package, art, touch]</td>\n",
       "    </tr>\n",
       "    <tr>\n",
       "      <th>3384</th>\n",
       "      <td>I'm not a fan of shooters. But I am a fan of Final Fantasy VII so that's why I got this. Still not a fan of shooters but it's all right. I got the game because I love the characters and the story so I'm more than satisfied. The cut scenes are beautiful. They're long but I'd rather watch them than play the game anyway to be honest.</td>\n",
       "      <td>[im, not, a, fan, of, shooter, but, i, am, a, fan, of, final, fantasi, vii, so, that, whi, i, got, thi, still, not, a, fan, of, shooter, but, it, all, right, i, got, the, game, becaus, i, love, the, charact, and, the, stori, so, im, more, than, satisfi, the, cut, scene, are, beauti, theyr, long, but, id, rather, watch, them, than, play, the, game, anyway, to, be, honest]</td>\n",
       "      <td>[im, not, fan, shooter, i, be, fan, final, fantasy, vii, so, thats, i, get, still, not, fan, shooter, right, i, get, game, i, love, character, story, so, im, more, satisfied, cut, scene, be, beautiful, theyre, long, id, rather, watch, play, game, anyway, be, honest]</td>\n",
       "    </tr>\n",
       "  </tbody>\n",
       "</table>\n",
       "</div>"
      ],
      "text/plain": [
       "                                                                                                                                                                                                                                                                                                                                        reviewText  \\\n",
       "3070                                                                                                                                                                                                                                                            Looks great and was a great price\\nI like the little Japanese package art touches.   \n",
       "3384  I'm not a fan of shooters. But I am a fan of Final Fantasy VII so that's why I got this. Still not a fan of shooters but it's all right. I got the game because I love the characters and the story so I'm more than satisfied. The cut scenes are beautiful. They're long but I'd rather watch them than play the game anyway to be honest.   \n",
       "\n",
       "                                                                                                                                                                                                                                                                                                                                                                             tokens_stemmed  \\\n",
       "3070                                                                                                                                                                                                                                                                                              [look, great, and, wa, a, great, price, i, like, the, littl, japanes, packag, art, touch]   \n",
       "3384  [im, not, a, fan, of, shooter, but, i, am, a, fan, of, final, fantasi, vii, so, that, whi, i, got, thi, still, not, a, fan, of, shooter, but, it, all, right, i, got, the, game, becaus, i, love, the, charact, and, the, stori, so, im, more, than, satisfi, the, cut, scene, are, beauti, theyr, long, but, id, rather, watch, them, than, play, the, game, anyway, to, be, honest]   \n",
       "\n",
       "                                                                                                                                                                                                                                                                          lemmas  \n",
       "3070                                                                                                                                                                                                   [look, great, be, great, price, i, little, japanese, package, art, touch]  \n",
       "3384  [im, not, fan, shooter, i, be, fan, final, fantasy, vii, so, thats, i, get, still, not, fan, shooter, right, i, get, game, i, love, character, story, so, im, more, satisfied, cut, scene, be, beautiful, theyre, long, id, rather, watch, play, game, anyway, be, honest]  "
      ]
     },
     "execution_count": 105,
     "metadata": {},
     "output_type": "execute_result"
    }
   ],
   "source": [
    "reviews[['reviewText','tokens_stemmed','lemmas']].sample(2)"
   ]
  },
  {
   "cell_type": "code",
   "execution_count": 106,
   "metadata": {},
   "outputs": [],
   "source": [
    "def get_sentiment_score(tokens):\n",
    "    score = 0\n",
    "    tags = pos_tag(tokens)\n",
    "    for word, tag in tags:\n",
    "        wn_tag = penn_to_wn(tag)\n",
    "        if not wn_tag:\n",
    "            continue\n",
    "        synsets = wn.synsets(word, pos=wn_tag)\n",
    "        if not synsets:\n",
    "            continue\n",
    "        \n",
    "        #most common set:\n",
    "        synset = synsets[0]\n",
    "        swn_synset = swn.senti_synset(synset.name())\n",
    "        \n",
    "        score += (swn_synset.pos_score() - swn_synset.neg_score())\n",
    "        \n",
    "    return score"
   ]
  },
  {
   "cell_type": "code",
   "execution_count": 107,
   "metadata": {},
   "outputs": [
    {
     "name": "stderr",
     "output_type": "stream",
     "text": [
      "[nltk_data] Downloading package sentiwordnet to\n",
      "[nltk_data]     C:\\Users\\tatav\\AppData\\Roaming\\nltk_data...\n",
      "[nltk_data]   Package sentiwordnet is already up-to-date!\n"
     ]
    },
    {
     "data": {
      "text/plain": [
       "True"
      ]
     },
     "execution_count": 107,
     "metadata": {},
     "output_type": "execute_result"
    }
   ],
   "source": [
    "import nltk\n",
    "nltk.download('sentiwordnet')\n"
   ]
  },
  {
   "cell_type": "markdown",
   "metadata": {},
   "source": [
    "Now we are going to test this function to if its giving  a good sentiment score\n",
    "\n"
   ]
  },
  {
   "cell_type": "code",
   "execution_count": 108,
   "metadata": {},
   "outputs": [
    {
     "data": {
      "text/plain": [
       "0.625"
      ]
     },
     "execution_count": 108,
     "metadata": {},
     "output_type": "execute_result"
    }
   ],
   "source": [
    "swn.senti_synset(wn.synsets(\"perfect\", wn.ADJ)[0].name()).pos_score()"
   ]
  },
  {
   "cell_type": "markdown",
   "metadata": {},
   "source": [
    "As we can see that the word perfect has a poitive scoere as it is a positive word"
   ]
  },
  {
   "cell_type": "code",
   "execution_count": 109,
   "metadata": {},
   "outputs": [],
   "source": [
    "reviews['sentiment_score'] = reviews['lemmas'].apply(lambda tokens: get_sentiment_score(tokens))"
   ]
  },
  {
   "cell_type": "code",
   "execution_count": 110,
   "metadata": {},
   "outputs": [
    {
     "data": {
      "text/html": [
       "<div>\n",
       "<style scoped>\n",
       "    .dataframe tbody tr th:only-of-type {\n",
       "        vertical-align: middle;\n",
       "    }\n",
       "\n",
       "    .dataframe tbody tr th {\n",
       "        vertical-align: top;\n",
       "    }\n",
       "\n",
       "    .dataframe thead th {\n",
       "        text-align: right;\n",
       "    }\n",
       "</style>\n",
       "<table border=\"1\" class=\"dataframe\">\n",
       "  <thead>\n",
       "    <tr style=\"text-align: right;\">\n",
       "      <th></th>\n",
       "      <th>reviewText</th>\n",
       "      <th>lemmas</th>\n",
       "      <th>sentiment_score</th>\n",
       "    </tr>\n",
       "  </thead>\n",
       "  <tbody>\n",
       "    <tr>\n",
       "      <th>835</th>\n",
       "      <td>This Wii was not in good condition and it did not have the two games with it which was very disappointing. I sent it back.</td>\n",
       "      <td>[wii, be, not, good, condition, do, not, have, game, be, very, disappoint, i, sent, back]</td>\n",
       "      <td>0.000</td>\n",
       "    </tr>\n",
       "    <tr>\n",
       "      <th>2541</th>\n",
       "      <td>Great Dragon Quest game for fans of Dragon Quest and a great building crafting game for fans of Minecraft and other such games.  This is not a Minecraft clone, this is an Action RPG with light crafting and building elements.  If you enjoy JRPGs or Crafting survival type games, give this one a shot.  It's got great art, runs well, has a story and side quests and gives you things to do other then just roam around building things.</td>\n",
       "      <td>[great, dragon, quest, game, fan, dragon, quest, great, building, craft, game, fan, minecraft, other, such, game, be, not, minecraft, clone, be, action, rpg, light, craft, building, element, enjoy, jrpgs, craft, survival, type, game, give, shot, get, great, art, run, well, have, story, side, quest, give, thing, do, other, then, just, roam, building, thing]</td>\n",
       "      <td>-1.125</td>\n",
       "    </tr>\n",
       "    <tr>\n",
       "      <th>1440</th>\n",
       "      <td>I ordered the Sentey Nebulus due to it's price point and me wanting to replace my Razer Deathadder.  The Nebulus came and the build and weight was both good.  I've no complaints at this point until Day 2 of use and suddenly all key clicks are not recognized, Left, Right, Mouse Wheel, Back, Forward and even the DPI button would not work.\\n\\nNow I understood that this was likely due to a faulty device and with how it came packaged and all that, I was led to believe that this mouse was worth more than what it's sold for and I was just getting a bad apple.  So I got it exchanged and got a 2nd Sentey Nebulus, same amazing product it seems but when I plugged it in the same issue was happening.  No key clicks we're recognized and this was when I decided that I'll be staying away from this company/mouse.\\n\\nI've not been frustrated with a product as much as I have this one and I definitely recommend looking elsewhere for a mouse.</td>\n",
       "      <td>[i, order, sentey, nebulus, due, price, point, want, replace, razer, deathadder, nebulus, come, build, weight, be, good, ive, complaint, point, day, use, suddenly, key, click, be, not, recognize, left, right, mouse, wheel, back, forward, even, dpi, button, not, work, now, i, understood, be, likely, due, faulty, device, come, package, i, be, lead, believe, mouse, be, worth, more, sell, i, be, just, get, bad, apple, so, i, get, exchange, get, sentey, nebulus, same, amaze, product, seem, i, plug, same, issue, be, happen, key, click, be, recognize, be, i, decide, ill, be, stay, away, companymouse, ive, not, be, frustrate, product, much, i, ...]</td>\n",
       "      <td>-1.000</td>\n",
       "    </tr>\n",
       "  </tbody>\n",
       "</table>\n",
       "</div>"
      ],
      "text/plain": [
       "                                                                                                                                                                                                                                                                                                                                                                                                                                                                                                                                                                                                                                                                                                                                                                                                                                                                                                                                                                   reviewText  \\\n",
       "835                                                                                                                                                                                                                                                                                                                                                                                                                                                                                                                                                                                                                                                                                                                                                                                                                                                This Wii was not in good condition and it did not have the two games with it which was very disappointing. I sent it back.   \n",
       "2541                                                                                                                                                                                                                                                                                                                                                                                                                                                                                                                          Great Dragon Quest game for fans of Dragon Quest and a great building crafting game for fans of Minecraft and other such games.  This is not a Minecraft clone, this is an Action RPG with light crafting and building elements.  If you enjoy JRPGs or Crafting survival type games, give this one a shot.  It's got great art, runs well, has a story and side quests and gives you things to do other then just roam around building things.   \n",
       "1440  I ordered the Sentey Nebulus due to it's price point and me wanting to replace my Razer Deathadder.  The Nebulus came and the build and weight was both good.  I've no complaints at this point until Day 2 of use and suddenly all key clicks are not recognized, Left, Right, Mouse Wheel, Back, Forward and even the DPI button would not work.\\n\\nNow I understood that this was likely due to a faulty device and with how it came packaged and all that, I was led to believe that this mouse was worth more than what it's sold for and I was just getting a bad apple.  So I got it exchanged and got a 2nd Sentey Nebulus, same amazing product it seems but when I plugged it in the same issue was happening.  No key clicks we're recognized and this was when I decided that I'll be staying away from this company/mouse.\\n\\nI've not been frustrated with a product as much as I have this one and I definitely recommend looking elsewhere for a mouse.   \n",
       "\n",
       "                                                                                                                                                                                                                                                                                                                                                                                                                                                                                                                                                                                                                                                                        lemmas  \\\n",
       "835                                                                                                                                                                                                                                                                                                                                                                                                                                                                                                                                                                                  [wii, be, not, good, condition, do, not, have, game, be, very, disappoint, i, sent, back]   \n",
       "2541                                                                                                                                                                                                                                                                                                    [great, dragon, quest, game, fan, dragon, quest, great, building, craft, game, fan, minecraft, other, such, game, be, not, minecraft, clone, be, action, rpg, light, craft, building, element, enjoy, jrpgs, craft, survival, type, game, give, shot, get, great, art, run, well, have, story, side, quest, give, thing, do, other, then, just, roam, building, thing]   \n",
       "1440  [i, order, sentey, nebulus, due, price, point, want, replace, razer, deathadder, nebulus, come, build, weight, be, good, ive, complaint, point, day, use, suddenly, key, click, be, not, recognize, left, right, mouse, wheel, back, forward, even, dpi, button, not, work, now, i, understood, be, likely, due, faulty, device, come, package, i, be, lead, believe, mouse, be, worth, more, sell, i, be, just, get, bad, apple, so, i, get, exchange, get, sentey, nebulus, same, amaze, product, seem, i, plug, same, issue, be, happen, key, click, be, recognize, be, i, decide, ill, be, stay, away, companymouse, ive, not, be, frustrate, product, much, i, ...]   \n",
       "\n",
       "      sentiment_score  \n",
       "835             0.000  \n",
       "2541           -1.125  \n",
       "1440           -1.000  "
      ]
     },
     "execution_count": 110,
     "metadata": {},
     "output_type": "execute_result"
    }
   ],
   "source": [
    "reviews[['reviewText','lemmas','sentiment_score']].sample(3)"
   ]
  },
  {
   "cell_type": "markdown",
   "metadata": {},
   "source": [
    "<h3> User input for sentimet analysis\n",
    "\n"
   ]
  },
  {
   "cell_type": "code",
   "execution_count": 113,
   "metadata": {},
   "outputs": [
    {
     "name": "stdout",
     "output_type": "stream",
     "text": [
      "The sentiment of the review is: negative\n",
      "The sentiment of the review is: negative\n",
      "The sentiment of the review is: positive\n",
      "The sentiment of the review is: positive\n"
     ]
    }
   ],
   "source": [
    "def classify_sentiment(sentiment_score):\n",
    "    if sentiment_score > 0:\n",
    "        return \"positive\"\n",
    "    elif sentiment_score < 0:\n",
    "        return \"negative\"\n",
    "    else:\n",
    "        return \"neutral\"\n",
    "\n",
    "def analyze_sentiment(review_text):\n",
    "    tokens = tb_tokenizer.tokenize(review_text.lower())\n",
    "    lemmas = get_lemas(tokens)\n",
    "    sentiment_score = get_sentiment_score(lemmas)\n",
    "    return classify_sentiment(sentiment_score)\n",
    "\n",
    "while True:\n",
    "    review_text = input(\"Enter a review (type 'exit' to quit): \")\n",
    "    if review_text.lower() == 'exit':\n",
    "        break\n",
    "    sentiment = analyze_sentiment(review_text)\n",
    "    print(f\"The sentiment of the review is: {sentiment}\")\n"
   ]
  },
  {
   "cell_type": "code",
   "execution_count": null,
   "metadata": {},
   "outputs": [],
   "source": []
  }
 ],
 "metadata": {
  "kernelspec": {
   "display_name": "Python 3",
   "language": "python",
   "name": "python3"
  },
  "language_info": {
   "codemirror_mode": {
    "name": "ipython",
    "version": 3
   },
   "file_extension": ".py",
   "mimetype": "text/x-python",
   "name": "python",
   "nbconvert_exporter": "python",
   "pygments_lexer": "ipython3",
   "version": "3.12.2"
  }
 },
 "nbformat": 4,
 "nbformat_minor": 2
}
